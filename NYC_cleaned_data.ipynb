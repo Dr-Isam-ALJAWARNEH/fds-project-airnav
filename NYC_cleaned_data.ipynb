{
  "nbformat": 4,
  "nbformat_minor": 0,
  "metadata": {
    "colab": {
      "provenance": [],
      "authorship_tag": "ABX9TyOcun0EQlHAvJf51mbvfYgl",
      "include_colab_link": true
    },
    "kernelspec": {
      "name": "python3",
      "display_name": "Python 3"
    },
    "language_info": {
      "name": "python"
    }
  },
  "cells": [
    {
      "cell_type": "markdown",
      "metadata": {
        "id": "view-in-github",
        "colab_type": "text"
      },
      "source": [
        "<a href=\"https://colab.research.google.com/github/Dr-Isam-ALJAWARNEH/fds-project-airnav/blob/NYC-merged-and-cleaned-dataset-code/NYC_cleaned_data.ipynb\" target=\"_parent\"><img src=\"https://colab.research.google.com/assets/colab-badge.svg\" alt=\"Open In Colab\"/></a>"
      ]
    },
    {
      "cell_type": "markdown",
      "source": [
        "#Part1: Upload and Merge NYC datasets\n",
        "\n"
      ],
      "metadata": {
        "id": "PCtLHO1baf1c"
      }
    },
    {
      "cell_type": "code",
      "source": [
        "import pandas as pd\n",
        "from google.colab import files\n",
        "import io"
      ],
      "metadata": {
        "id": "rlxRB7qsTpom"
      },
      "execution_count": 3,
      "outputs": []
    },
    {
      "cell_type": "code",
      "source": [
        "# Step 1: Upload multiple CSV files\n",
        "uploaded = files.upload()"
      ],
      "metadata": {
        "colab": {
          "base_uri": "https://localhost:8080/",
          "height": 151
        },
        "id": "vWeU_PgcTsl7",
        "outputId": "ac75dd0e-443e-46a2-9941-89029d1659cd"
      },
      "execution_count": 4,
      "outputs": [
        {
          "output_type": "display_data",
          "data": {
            "text/plain": [
              "<IPython.core.display.HTML object>"
            ],
            "text/html": [
              "\n",
              "     <input type=\"file\" id=\"files-1fdb9442-2f0b-4287-90b7-e6603b4f6173\" name=\"files[]\" multiple disabled\n",
              "        style=\"border:none\" />\n",
              "     <output id=\"result-1fdb9442-2f0b-4287-90b7-e6603b4f6173\">\n",
              "      Upload widget is only available when the cell has been executed in the\n",
              "      current browser session. Please rerun this cell to enable.\n",
              "      </output>\n",
              "      <script>// Copyright 2017 Google LLC\n",
              "//\n",
              "// Licensed under the Apache License, Version 2.0 (the \"License\");\n",
              "// you may not use this file except in compliance with the License.\n",
              "// You may obtain a copy of the License at\n",
              "//\n",
              "//      http://www.apache.org/licenses/LICENSE-2.0\n",
              "//\n",
              "// Unless required by applicable law or agreed to in writing, software\n",
              "// distributed under the License is distributed on an \"AS IS\" BASIS,\n",
              "// WITHOUT WARRANTIES OR CONDITIONS OF ANY KIND, either express or implied.\n",
              "// See the License for the specific language governing permissions and\n",
              "// limitations under the License.\n",
              "\n",
              "/**\n",
              " * @fileoverview Helpers for google.colab Python module.\n",
              " */\n",
              "(function(scope) {\n",
              "function span(text, styleAttributes = {}) {\n",
              "  const element = document.createElement('span');\n",
              "  element.textContent = text;\n",
              "  for (const key of Object.keys(styleAttributes)) {\n",
              "    element.style[key] = styleAttributes[key];\n",
              "  }\n",
              "  return element;\n",
              "}\n",
              "\n",
              "// Max number of bytes which will be uploaded at a time.\n",
              "const MAX_PAYLOAD_SIZE = 100 * 1024;\n",
              "\n",
              "function _uploadFiles(inputId, outputId) {\n",
              "  const steps = uploadFilesStep(inputId, outputId);\n",
              "  const outputElement = document.getElementById(outputId);\n",
              "  // Cache steps on the outputElement to make it available for the next call\n",
              "  // to uploadFilesContinue from Python.\n",
              "  outputElement.steps = steps;\n",
              "\n",
              "  return _uploadFilesContinue(outputId);\n",
              "}\n",
              "\n",
              "// This is roughly an async generator (not supported in the browser yet),\n",
              "// where there are multiple asynchronous steps and the Python side is going\n",
              "// to poll for completion of each step.\n",
              "// This uses a Promise to block the python side on completion of each step,\n",
              "// then passes the result of the previous step as the input to the next step.\n",
              "function _uploadFilesContinue(outputId) {\n",
              "  const outputElement = document.getElementById(outputId);\n",
              "  const steps = outputElement.steps;\n",
              "\n",
              "  const next = steps.next(outputElement.lastPromiseValue);\n",
              "  return Promise.resolve(next.value.promise).then((value) => {\n",
              "    // Cache the last promise value to make it available to the next\n",
              "    // step of the generator.\n",
              "    outputElement.lastPromiseValue = value;\n",
              "    return next.value.response;\n",
              "  });\n",
              "}\n",
              "\n",
              "/**\n",
              " * Generator function which is called between each async step of the upload\n",
              " * process.\n",
              " * @param {string} inputId Element ID of the input file picker element.\n",
              " * @param {string} outputId Element ID of the output display.\n",
              " * @return {!Iterable<!Object>} Iterable of next steps.\n",
              " */\n",
              "function* uploadFilesStep(inputId, outputId) {\n",
              "  const inputElement = document.getElementById(inputId);\n",
              "  inputElement.disabled = false;\n",
              "\n",
              "  const outputElement = document.getElementById(outputId);\n",
              "  outputElement.innerHTML = '';\n",
              "\n",
              "  const pickedPromise = new Promise((resolve) => {\n",
              "    inputElement.addEventListener('change', (e) => {\n",
              "      resolve(e.target.files);\n",
              "    });\n",
              "  });\n",
              "\n",
              "  const cancel = document.createElement('button');\n",
              "  inputElement.parentElement.appendChild(cancel);\n",
              "  cancel.textContent = 'Cancel upload';\n",
              "  const cancelPromise = new Promise((resolve) => {\n",
              "    cancel.onclick = () => {\n",
              "      resolve(null);\n",
              "    };\n",
              "  });\n",
              "\n",
              "  // Wait for the user to pick the files.\n",
              "  const files = yield {\n",
              "    promise: Promise.race([pickedPromise, cancelPromise]),\n",
              "    response: {\n",
              "      action: 'starting',\n",
              "    }\n",
              "  };\n",
              "\n",
              "  cancel.remove();\n",
              "\n",
              "  // Disable the input element since further picks are not allowed.\n",
              "  inputElement.disabled = true;\n",
              "\n",
              "  if (!files) {\n",
              "    return {\n",
              "      response: {\n",
              "        action: 'complete',\n",
              "      }\n",
              "    };\n",
              "  }\n",
              "\n",
              "  for (const file of files) {\n",
              "    const li = document.createElement('li');\n",
              "    li.append(span(file.name, {fontWeight: 'bold'}));\n",
              "    li.append(span(\n",
              "        `(${file.type || 'n/a'}) - ${file.size} bytes, ` +\n",
              "        `last modified: ${\n",
              "            file.lastModifiedDate ? file.lastModifiedDate.toLocaleDateString() :\n",
              "                                    'n/a'} - `));\n",
              "    const percent = span('0% done');\n",
              "    li.appendChild(percent);\n",
              "\n",
              "    outputElement.appendChild(li);\n",
              "\n",
              "    const fileDataPromise = new Promise((resolve) => {\n",
              "      const reader = new FileReader();\n",
              "      reader.onload = (e) => {\n",
              "        resolve(e.target.result);\n",
              "      };\n",
              "      reader.readAsArrayBuffer(file);\n",
              "    });\n",
              "    // Wait for the data to be ready.\n",
              "    let fileData = yield {\n",
              "      promise: fileDataPromise,\n",
              "      response: {\n",
              "        action: 'continue',\n",
              "      }\n",
              "    };\n",
              "\n",
              "    // Use a chunked sending to avoid message size limits. See b/62115660.\n",
              "    let position = 0;\n",
              "    do {\n",
              "      const length = Math.min(fileData.byteLength - position, MAX_PAYLOAD_SIZE);\n",
              "      const chunk = new Uint8Array(fileData, position, length);\n",
              "      position += length;\n",
              "\n",
              "      const base64 = btoa(String.fromCharCode.apply(null, chunk));\n",
              "      yield {\n",
              "        response: {\n",
              "          action: 'append',\n",
              "          file: file.name,\n",
              "          data: base64,\n",
              "        },\n",
              "      };\n",
              "\n",
              "      let percentDone = fileData.byteLength === 0 ?\n",
              "          100 :\n",
              "          Math.round((position / fileData.byteLength) * 100);\n",
              "      percent.textContent = `${percentDone}% done`;\n",
              "\n",
              "    } while (position < fileData.byteLength);\n",
              "  }\n",
              "\n",
              "  // All done.\n",
              "  yield {\n",
              "    response: {\n",
              "      action: 'complete',\n",
              "    }\n",
              "  };\n",
              "}\n",
              "\n",
              "scope.google = scope.google || {};\n",
              "scope.google.colab = scope.google.colab || {};\n",
              "scope.google.colab._files = {\n",
              "  _uploadFiles,\n",
              "  _uploadFilesContinue,\n",
              "};\n",
              "})(self);\n",
              "</script> "
            ]
          },
          "metadata": {}
        },
        {
          "output_type": "stream",
          "name": "stdout",
          "text": [
            "Saving NYC_PM_Part1.csv to NYC_PM_Part1.csv\n",
            "Saving NYC_PM_Part2.csv to NYC_PM_Part2.csv\n",
            "Saving NYC_PM_Part3.csv to NYC_PM_Part3.csv\n"
          ]
        }
      ]
    },
    {
      "cell_type": "code",
      "source": [
        "# Step 2: Read CSV files into a dictionary of DataFrames\n",
        "dataframes = {}\n",
        "for filename in uploaded.keys():\n",
        "    df = pd.read_csv(io.BytesIO(uploaded[filename]))  # Read CSV into DataFrame\n",
        "    dataframes[filename] = df\n",
        "    print(f\"\\nPreview of {filename}:\")\n",
        "    print(df.head())  # Display first few rows"
      ],
      "metadata": {
        "colab": {
          "base_uri": "https://localhost:8080/"
        },
        "id": "9SWzKVVJU6FI",
        "outputId": "f4bc98ee-e838-4cdd-ffa9-d680dc496c16"
      },
      "execution_count": 5,
      "outputs": [
        {
          "output_type": "stream",
          "name": "stdout",
          "text": [
            "\n",
            "Preview of NYC_PM_Part1.csv:\n",
            "      SensorID        time   latitude  longitude  bin0  bin1  bin2  bin3  \\\n",
            "0  NYCP2_CS01A  1631277304  40.847672 -73.869316    11     1     1     0   \n",
            "1  NYCP2_CS01A  1631277308  40.847668 -73.869316    22     4     1     0   \n",
            "2  NYCP2_CS01A  1631277313  40.847649 -73.869362    40     1     1     0   \n",
            "3  NYCP2_CS01A  1631277318  40.847649 -73.869362    26     1     0     0   \n",
            "4  NYCP2_CS01A  1631277323  40.847649 -73.869362    44     4     0     1   \n",
            "\n",
            "   bin4  bin5  ...  bin17  bin18  bin19  bin20  bin21  bin22  bin23  \\\n",
            "0     0     0  ...      0      0      0      0      0      0      0   \n",
            "1     0     2  ...      0      0      0      0      0      0      0   \n",
            "2     0     1  ...      0      0      0      0      0      0      0   \n",
            "3     0     0  ...      0      0      0      0      0      0      0   \n",
            "4     0     0  ...      0      0      0      0      0      0      0   \n",
            "\n",
            "   temperature  humidity      pm25  \n",
            "0         23.7      57.3  4.508813  \n",
            "1         23.7      57.8  5.462420  \n",
            "2         23.7      57.8  5.154881  \n",
            "3         23.6      57.6  4.508813  \n",
            "4         23.6      57.5  5.539503  \n",
            "\n",
            "[5 rows x 31 columns]\n",
            "\n",
            "Preview of NYC_PM_Part2.csv:\n",
            "      SensorID        time   latitude  longitude  bin0  bin1  bin2  bin3  \\\n",
            "0  NYCP2_CS03A  1631457134  40.823334 -73.890488   234    28     1     1   \n",
            "1  NYCP2_CS03A  1631457144  40.823326 -73.890495   185    14     3     0   \n",
            "2  NYCP2_CS03A  1631457139  40.823330 -73.890488   309    49     6     0   \n",
            "3  NYCP2_CS03A  1631457149  40.823322 -73.890495   124     9     2     0   \n",
            "4  NYCP2_CS03A  1631457154  40.823322 -73.890495    95    10     1     0   \n",
            "\n",
            "   bin4  bin5  ...  bin17  bin18  bin19  bin20  bin21  bin22  bin23  \\\n",
            "0     1     1  ...      0      0      0      0      0      0      0   \n",
            "1     0     0  ...      0      0      0      0      0      0      0   \n",
            "2     1     0  ...      0      0      0      0      0      0      0   \n",
            "3     1     1  ...      0      0      0      0      0      0      0   \n",
            "4     0     0  ...      0      0      0      0      0      0      0   \n",
            "\n",
            "   temperature  humidity       pm25  \n",
            "0         24.6      54.6  11.348474  \n",
            "1         24.6      54.8   5.633453  \n",
            "2         24.6      54.7  11.310427  \n",
            "3         24.6      54.7   6.671904  \n",
            "4         24.6      54.7   3.117859  \n",
            "\n",
            "[5 rows x 31 columns]\n",
            "\n",
            "Preview of NYC_PM_Part3.csv:\n",
            "      SensorID        time   latitude  longitude  bin0  bin1  bin2  bin3  \\\n",
            "0  NYCP2_CS03A  1634934798  40.818855 -73.898369     6     0     0     0   \n",
            "1  NYCP2_CS03A  1634934803  40.818855 -73.898369     3     0     1     1   \n",
            "2  NYCP2_CS03A  1634934808  40.818855 -73.898369     7     0     0     0   \n",
            "3  NYCP2_CS03A  1634934813  40.818855 -73.898369     4     0     0     0   \n",
            "4  NYCP2_CS03A  1634934818  40.818855 -73.898369     4     0     0     0   \n",
            "\n",
            "   bin4  bin5  ...  bin17  bin18  bin19  bin20  bin21  bin22  bin23  \\\n",
            "0     0     0  ...      0      0      0      0      0      0      0   \n",
            "1     0     0  ...      0      0      0      0      0      0      0   \n",
            "2     0     0  ...      0      0      0      0      0      0      0   \n",
            "3     0     0  ...      0      0      0      0      0      0      0   \n",
            "4     0     0  ...      0      0      0      0      0      0      0   \n",
            "\n",
            "   temperature  humidity     pm25  \n",
            "0         23.0      42.7  3.63927  \n",
            "1         23.1      42.7  3.63927  \n",
            "2         23.1      42.6  3.63927  \n",
            "3         23.1      42.6  3.63927  \n",
            "4         23.1      42.5  3.63927  \n",
            "\n",
            "[5 rows x 31 columns]\n"
          ]
        }
      ]
    },
    {
      "cell_type": "code",
      "source": [
        "# Print details for each dataset separately\n",
        "for filename, df in dataframes.items():\n",
        "    print(\"\\nDataset:\", filename)\n",
        "    print(\"Number of Rows:\", df.shape[0])\n",
        "    print(\"Number of Columns:\", df.shape[1])\n",
        "    print(\"Column Names:\", list(df.columns))\n"
      ],
      "metadata": {
        "colab": {
          "base_uri": "https://localhost:8080/"
        },
        "id": "nHqEdaftYA-g",
        "outputId": "af659d9a-2647-4eba-e71a-a7c124eaafb1"
      },
      "execution_count": 16,
      "outputs": [
        {
          "output_type": "stream",
          "name": "stdout",
          "text": [
            "\n",
            "Dataset: NYC_PM_Part1.csv\n",
            "Number of Rows: 169999\n",
            "Number of Columns: 31\n",
            "Column Names: ['SensorID', 'time', 'latitude', 'longitude', 'bin0', 'bin1', 'bin2', 'bin3', 'bin4', 'bin5', 'bin6', 'bin7', 'bin8', 'bin9', 'bin10', 'bin11', 'bin12', 'bin13', 'bin14', 'bin15', 'bin16', 'bin17', 'bin18', 'bin19', 'bin20', 'bin21', 'bin22', 'bin23', 'temperature', 'humidity', 'pm25']\n",
            "\n",
            "Dataset: NYC_PM_Part2.csv\n",
            "Number of Rows: 169999\n",
            "Number of Columns: 31\n",
            "Column Names: ['SensorID', 'time', 'latitude', 'longitude', 'bin0', 'bin1', 'bin2', 'bin3', 'bin4', 'bin5', 'bin6', 'bin7', 'bin8', 'bin9', 'bin10', 'bin11', 'bin12', 'bin13', 'bin14', 'bin15', 'bin16', 'bin17', 'bin18', 'bin19', 'bin20', 'bin21', 'bin22', 'bin23', 'temperature', 'humidity', 'pm25']\n",
            "\n",
            "Dataset: NYC_PM_Part3.csv\n",
            "Number of Rows: 175919\n",
            "Number of Columns: 31\n",
            "Column Names: ['SensorID', 'time', 'latitude', 'longitude', 'bin0', 'bin1', 'bin2', 'bin3', 'bin4', 'bin5', 'bin6', 'bin7', 'bin8', 'bin9', 'bin10', 'bin11', 'bin12', 'bin13', 'bin14', 'bin15', 'bin16', 'bin17', 'bin18', 'bin19', 'bin20', 'bin21', 'bin22', 'bin23', 'temperature', 'humidity', 'pm25']\n"
          ]
        }
      ]
    },
    {
      "cell_type": "code",
      "source": [
        "# Step 3: Concatenate all datasets row-wise (since columns are the same)\n",
        "merged_df = pd.concat(dataframes, ignore_index=True)\n"
      ],
      "metadata": {
        "id": "DtK_so64VkFM"
      },
      "execution_count": 20,
      "outputs": []
    },
    {
      "cell_type": "code",
      "source": [
        "# Step 4: Display merged dataset\n",
        "print(\"\\nMerged Dataset Preview:\")\n",
        "print(merged_df)\n"
      ],
      "metadata": {
        "colab": {
          "base_uri": "https://localhost:8080/"
        },
        "id": "y3MA3Uj0WsWl",
        "outputId": "d12e8eca-fe1e-47b7-cabd-c954a97f6fca"
      },
      "execution_count": 24,
      "outputs": [
        {
          "output_type": "stream",
          "name": "stdout",
          "text": [
            "\n",
            "Merged Dataset Preview:\n",
            "           SensorID        time   latitude  longitude  bin0  bin1  bin2  bin3  \\\n",
            "0       NYCP2_CS01A  1631277304  40.847672 -73.869316    11     1     1     0   \n",
            "1       NYCP2_CS01A  1631277308  40.847668 -73.869316    22     4     1     0   \n",
            "2       NYCP2_CS01A  1631277313  40.847649 -73.869362    40     1     1     0   \n",
            "3       NYCP2_CS01A  1631277318  40.847649 -73.869362    26     1     0     0   \n",
            "4       NYCP2_CS01A  1631277323  40.847649 -73.869362    44     4     0     1   \n",
            "...             ...         ...        ...        ...   ...   ...   ...   ...   \n",
            "515912  NYCP2_CS05A  1632481470  40.845146 -73.870689    24     3     1     0   \n",
            "515913  NYCP2_CS05A  1632481475  40.845150 -73.870689    16     2     0     0   \n",
            "515914  NYCP2_CS05A  1632481480  40.845146 -73.870689    26     3     0     0   \n",
            "515915  NYCP2_CS05A  1632481485  40.845139 -73.870697    22     1     0     0   \n",
            "515916  NYCP2_CS05A  1632481490  40.845135 -73.870697     8     0     0     0   \n",
            "\n",
            "        bin4  bin5  ...  bin17  bin18  bin19  bin20  bin21  bin22  bin23  \\\n",
            "0          0     0  ...      0      0      0      0      0      0      0   \n",
            "1          0     2  ...      0      0      0      0      0      0      0   \n",
            "2          0     1  ...      0      0      0      0      0      0      0   \n",
            "3          0     0  ...      0      0      0      0      0      0      0   \n",
            "4          0     0  ...      0      0      0      0      0      0      0   \n",
            "...      ...   ...  ...    ...    ...    ...    ...    ...    ...    ...   \n",
            "515912     0     0  ...      0      0      0      0      0      0      0   \n",
            "515913     0     0  ...      0      0      0      0      0      0      0   \n",
            "515914     0     1  ...      0      0      0      0      0      0      0   \n",
            "515915     0     0  ...      0      0      0      0      0      0      0   \n",
            "515916     0     0  ...      0      0      0      0      0      0      0   \n",
            "\n",
            "        temperature  humidity      pm25  \n",
            "0              23.7      57.3  4.508813  \n",
            "1              23.7      57.8  5.462420  \n",
            "2              23.7      57.8  5.154881  \n",
            "3              23.6      57.6  4.508813  \n",
            "4              23.6      57.5  5.539503  \n",
            "...             ...       ...       ...  \n",
            "515912        -17.5       0.0  5.005314  \n",
            "515913        -17.5       0.0  3.534440  \n",
            "515914        -17.5       0.0  5.444739  \n",
            "515915        -17.5       0.0  3.432193  \n",
            "515916        -17.5       0.0  2.895179  \n",
            "\n",
            "[515917 rows x 31 columns]\n"
          ]
        }
      ]
    },
    {
      "cell_type": "code",
      "source": [
        "print(f\"\\nMerged dataset shape: {merged_df.shape}\")  # (rows, columns)"
      ],
      "metadata": {
        "colab": {
          "base_uri": "https://localhost:8080/"
        },
        "id": "csrDrhkQXgYD",
        "outputId": "82dc3b9e-398f-4e86-b49a-72800c1e4462"
      },
      "execution_count": 25,
      "outputs": [
        {
          "output_type": "stream",
          "name": "stdout",
          "text": [
            "\n",
            "Merged dataset shape: (515917, 31)\n"
          ]
        }
      ]
    },
    {
      "cell_type": "code",
      "source": [
        "# step 5: Save merged dataset\n",
        "merged_df.to_csv(\"NYC_aq_merged.csv\", index=False)\n",
        "print(\"\\nMerged dataset saved as 'NYC_aq_merged.csv'.\")\n"
      ],
      "metadata": {
        "colab": {
          "base_uri": "https://localhost:8080/"
        },
        "id": "w27QfcTJZ2Fe",
        "outputId": "60576a5c-542d-4b83-8fd8-149af9c0d84a"
      },
      "execution_count": 26,
      "outputs": [
        {
          "output_type": "stream",
          "name": "stdout",
          "text": [
            "\n",
            "Merged dataset saved as 'NYC_aq_merged.csv'.\n"
          ]
        }
      ]
    },
    {
      "cell_type": "markdown",
      "source": [
        "# Part2: Cleaning & Preparing the dataset\n",
        "\n"
      ],
      "metadata": {
        "id": "9Or6Qo1NXgK-"
      }
    },
    {
      "cell_type": "code",
      "source": [
        "import pandas as pd\n",
        "import numpy as np\n",
        "\n",
        "# Load the merged dataset\n",
        "df = pd.read_csv(\"NYC_aq_merged.csv\")"
      ],
      "metadata": {
        "id": "HV79AqGca9pN"
      },
      "execution_count": 29,
      "outputs": []
    },
    {
      "cell_type": "code",
      "source": [
        "# Step 1: Check for missing values\n",
        "print(\"\\nMissing values per column:\")\n",
        "print(df.isnull().sum())"
      ],
      "metadata": {
        "colab": {
          "base_uri": "https://localhost:8080/"
        },
        "id": "YlvjrbypbOxp",
        "outputId": "893dacbb-a108-4e33-99d2-97bc1e83b7de"
      },
      "execution_count": 30,
      "outputs": [
        {
          "output_type": "stream",
          "name": "stdout",
          "text": [
            "\n",
            "Missing values per column:\n",
            "SensorID       0\n",
            "time           0\n",
            "latitude       0\n",
            "longitude      0\n",
            "bin0           0\n",
            "bin1           0\n",
            "bin2           0\n",
            "bin3           0\n",
            "bin4           0\n",
            "bin5           0\n",
            "bin6           0\n",
            "bin7           0\n",
            "bin8           0\n",
            "bin9           0\n",
            "bin10          0\n",
            "bin11          0\n",
            "bin12          0\n",
            "bin13          0\n",
            "bin14          0\n",
            "bin15          0\n",
            "bin16          0\n",
            "bin17          0\n",
            "bin18          0\n",
            "bin19          0\n",
            "bin20          0\n",
            "bin21          0\n",
            "bin22          0\n",
            "bin23          0\n",
            "temperature    0\n",
            "humidity       0\n",
            "pm25           0\n",
            "dtype: int64\n"
          ]
        }
      ]
    },
    {
      "cell_type": "code",
      "source": [
        "# Step 2: Remove duplicates\n",
        "df = df.drop_duplicates()"
      ],
      "metadata": {
        "id": "m-OUboSQbSXU"
      },
      "execution_count": 31,
      "outputs": []
    },
    {
      "cell_type": "code",
      "source": [
        "# Step 3: Convert Date column to datetime format\n",
        "if \"Date\" in df.columns:\n",
        "    df[\"Date\"] = pd.to_datetime(df[\"Date\"], errors=\"coerce\")"
      ],
      "metadata": {
        "id": "q8RmhCksbYxM"
      },
      "execution_count": 32,
      "outputs": []
    },
    {
      "cell_type": "code",
      "source": [
        "# Step 4: Remove outliers (z-score method)\n",
        "from scipy.stats import zscore\n",
        "numerical_cols = df.select_dtypes(include=np.number).columns\n",
        "df = df[(np.abs(zscore(df[numerical_cols])) < 3).all(axis=1)]\n"
      ],
      "metadata": {
        "id": "afYQwZaHbcJm"
      },
      "execution_count": 33,
      "outputs": []
    },
    {
      "cell_type": "code",
      "source": [
        "# Step 5: Standardize column names (remove spaces & lowercase)\n",
        "df.columns = df.columns.str.strip().str.lower().str.replace(\" \", \"_\")\n"
      ],
      "metadata": {
        "id": "n-rBOO-7bgT2"
      },
      "execution_count": 34,
      "outputs": []
    },
    {
      "cell_type": "code",
      "source": [
        "# Step 6: Convert categorical variables into numeric (if needed)\n",
        "categorical_cols = df.select_dtypes(include=\"object\").columns\n",
        "df = pd.get_dummies(df, columns=categorical_cols, drop_first=True)\n"
      ],
      "metadata": {
        "id": "7MVI6wL4bi79"
      },
      "execution_count": 35,
      "outputs": []
    },
    {
      "cell_type": "code",
      "source": [
        "# Step 7: Normalize numerical features (Min-Max Scaling)\n",
        "from sklearn.preprocessing import MinMaxScaler\n",
        "scaler = MinMaxScaler()\n",
        "df[numerical_cols] = scaler.fit_transform(df[numerical_cols])"
      ],
      "metadata": {
        "id": "Mn_In652blSW"
      },
      "execution_count": 36,
      "outputs": []
    },
    {
      "cell_type": "code",
      "source": [
        "# Save the cleaned dataset\n",
        "df.to_csv(\"NYC_aq_cleaned.csv\", index=False)\n",
        "print(\"\\nCleaned dataset saved as 'NYC_aq_cleaned.csv'.\")\n"
      ],
      "metadata": {
        "colab": {
          "base_uri": "https://localhost:8080/"
        },
        "id": "1i2IjeFqbov2",
        "outputId": "f8a4765e-e31a-446d-da20-e4644c122b26"
      },
      "execution_count": 37,
      "outputs": [
        {
          "output_type": "stream",
          "name": "stdout",
          "text": [
            "\n",
            "Cleaned dataset saved as 'NYC_aq_cleaned.csv'.\n"
          ]
        }
      ]
    },
    {
      "cell_type": "code",
      "source": [
        "# Download the cleaned dataset\n",
        "files.download(\"NYC_aq_cleaned.csv\")"
      ],
      "metadata": {
        "colab": {
          "base_uri": "https://localhost:8080/",
          "height": 17
        },
        "id": "UsbQR5Sbbv81",
        "outputId": "57b8588c-637a-4230-a746-ca694d5ad89d"
      },
      "execution_count": 38,
      "outputs": [
        {
          "output_type": "display_data",
          "data": {
            "text/plain": [
              "<IPython.core.display.Javascript object>"
            ],
            "application/javascript": [
              "\n",
              "    async function download(id, filename, size) {\n",
              "      if (!google.colab.kernel.accessAllowed) {\n",
              "        return;\n",
              "      }\n",
              "      const div = document.createElement('div');\n",
              "      const label = document.createElement('label');\n",
              "      label.textContent = `Downloading \"${filename}\": `;\n",
              "      div.appendChild(label);\n",
              "      const progress = document.createElement('progress');\n",
              "      progress.max = size;\n",
              "      div.appendChild(progress);\n",
              "      document.body.appendChild(div);\n",
              "\n",
              "      const buffers = [];\n",
              "      let downloaded = 0;\n",
              "\n",
              "      const channel = await google.colab.kernel.comms.open(id);\n",
              "      // Send a message to notify the kernel that we're ready.\n",
              "      channel.send({})\n",
              "\n",
              "      for await (const message of channel.messages) {\n",
              "        // Send a message to notify the kernel that we're ready.\n",
              "        channel.send({})\n",
              "        if (message.buffers) {\n",
              "          for (const buffer of message.buffers) {\n",
              "            buffers.push(buffer);\n",
              "            downloaded += buffer.byteLength;\n",
              "            progress.value = downloaded;\n",
              "          }\n",
              "        }\n",
              "      }\n",
              "      const blob = new Blob(buffers, {type: 'application/binary'});\n",
              "      const a = document.createElement('a');\n",
              "      a.href = window.URL.createObjectURL(blob);\n",
              "      a.download = filename;\n",
              "      div.appendChild(a);\n",
              "      a.click();\n",
              "      div.remove();\n",
              "    }\n",
              "  "
            ]
          },
          "metadata": {}
        },
        {
          "output_type": "display_data",
          "data": {
            "text/plain": [
              "<IPython.core.display.Javascript object>"
            ],
            "application/javascript": [
              "download(\"download_98b3921d-e9e1-4a8c-ae51-f624073685e5\", \"NYC_aq_cleaned.csv\", 125346668)"
            ]
          },
          "metadata": {}
        }
      ]
    }
  ]
}