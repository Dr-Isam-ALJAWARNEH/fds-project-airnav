{
  "nbformat": 4,
  "nbformat_minor": 0,
  "metadata": {
    "colab": {
      "provenance": [],
      "authorship_tag": "ABX9TyPNEouR3AzXaHmV1A7gVRPC",
      "include_colab_link": true
    },
    "kernelspec": {
      "name": "python3",
      "display_name": "Python 3"
    },
    "language_info": {
      "name": "python"
    }
  },
  "cells": [
    {
      "cell_type": "markdown",
      "metadata": {
        "id": "view-in-github",
        "colab_type": "text"
      },
      "source": [
        "<a href=\"https://colab.research.google.com/github/Dr-Isam-ALJAWARNEH/fds-project-airnav/blob/main/Cleaning_data.ipynb\" target=\"_parent\"><img src=\"https://colab.research.google.com/assets/colab-badge.svg\" alt=\"Open In Colab\"/></a>"
      ]
    },
    {
      "cell_type": "code",
      "source": [
        "# Import Google Colab file upload functionality\n",
        "from google.colab import files\n",
        "uploaded = files.upload()  # Use the file chooser to upload all CSV parts"
      ],
      "metadata": {
        "colab": {
          "base_uri": "https://localhost:8080/",
          "height": 142
        },
        "id": "yS18ia_yumNm",
        "outputId": "a528113e-d641-43f7-fe75-25d8917708ca"
      },
      "execution_count": 2,
      "outputs": [
        {
          "output_type": "display_data",
          "data": {
            "text/plain": [
              "<IPython.core.display.HTML object>"
            ],
            "text/html": [
              "\n",
              "     <input type=\"file\" id=\"files-d7491f4a-c613-41b7-b36a-a3fdfc211f37\" name=\"files[]\" multiple disabled\n",
              "        style=\"border:none\" />\n",
              "     <output id=\"result-d7491f4a-c613-41b7-b36a-a3fdfc211f37\">\n",
              "      Upload widget is only available when the cell has been executed in the\n",
              "      current browser session. Please rerun this cell to enable.\n",
              "      </output>\n",
              "      <script>// Copyright 2017 Google LLC\n",
              "//\n",
              "// Licensed under the Apache License, Version 2.0 (the \"License\");\n",
              "// you may not use this file except in compliance with the License.\n",
              "// You may obtain a copy of the License at\n",
              "//\n",
              "//      http://www.apache.org/licenses/LICENSE-2.0\n",
              "//\n",
              "// Unless required by applicable law or agreed to in writing, software\n",
              "// distributed under the License is distributed on an \"AS IS\" BASIS,\n",
              "// WITHOUT WARRANTIES OR CONDITIONS OF ANY KIND, either express or implied.\n",
              "// See the License for the specific language governing permissions and\n",
              "// limitations under the License.\n",
              "\n",
              "/**\n",
              " * @fileoverview Helpers for google.colab Python module.\n",
              " */\n",
              "(function(scope) {\n",
              "function span(text, styleAttributes = {}) {\n",
              "  const element = document.createElement('span');\n",
              "  element.textContent = text;\n",
              "  for (const key of Object.keys(styleAttributes)) {\n",
              "    element.style[key] = styleAttributes[key];\n",
              "  }\n",
              "  return element;\n",
              "}\n",
              "\n",
              "// Max number of bytes which will be uploaded at a time.\n",
              "const MAX_PAYLOAD_SIZE = 100 * 1024;\n",
              "\n",
              "function _uploadFiles(inputId, outputId) {\n",
              "  const steps = uploadFilesStep(inputId, outputId);\n",
              "  const outputElement = document.getElementById(outputId);\n",
              "  // Cache steps on the outputElement to make it available for the next call\n",
              "  // to uploadFilesContinue from Python.\n",
              "  outputElement.steps = steps;\n",
              "\n",
              "  return _uploadFilesContinue(outputId);\n",
              "}\n",
              "\n",
              "// This is roughly an async generator (not supported in the browser yet),\n",
              "// where there are multiple asynchronous steps and the Python side is going\n",
              "// to poll for completion of each step.\n",
              "// This uses a Promise to block the python side on completion of each step,\n",
              "// then passes the result of the previous step as the input to the next step.\n",
              "function _uploadFilesContinue(outputId) {\n",
              "  const outputElement = document.getElementById(outputId);\n",
              "  const steps = outputElement.steps;\n",
              "\n",
              "  const next = steps.next(outputElement.lastPromiseValue);\n",
              "  return Promise.resolve(next.value.promise).then((value) => {\n",
              "    // Cache the last promise value to make it available to the next\n",
              "    // step of the generator.\n",
              "    outputElement.lastPromiseValue = value;\n",
              "    return next.value.response;\n",
              "  });\n",
              "}\n",
              "\n",
              "/**\n",
              " * Generator function which is called between each async step of the upload\n",
              " * process.\n",
              " * @param {string} inputId Element ID of the input file picker element.\n",
              " * @param {string} outputId Element ID of the output display.\n",
              " * @return {!Iterable<!Object>} Iterable of next steps.\n",
              " */\n",
              "function* uploadFilesStep(inputId, outputId) {\n",
              "  const inputElement = document.getElementById(inputId);\n",
              "  inputElement.disabled = false;\n",
              "\n",
              "  const outputElement = document.getElementById(outputId);\n",
              "  outputElement.innerHTML = '';\n",
              "\n",
              "  const pickedPromise = new Promise((resolve) => {\n",
              "    inputElement.addEventListener('change', (e) => {\n",
              "      resolve(e.target.files);\n",
              "    });\n",
              "  });\n",
              "\n",
              "  const cancel = document.createElement('button');\n",
              "  inputElement.parentElement.appendChild(cancel);\n",
              "  cancel.textContent = 'Cancel upload';\n",
              "  const cancelPromise = new Promise((resolve) => {\n",
              "    cancel.onclick = () => {\n",
              "      resolve(null);\n",
              "    };\n",
              "  });\n",
              "\n",
              "  // Wait for the user to pick the files.\n",
              "  const files = yield {\n",
              "    promise: Promise.race([pickedPromise, cancelPromise]),\n",
              "    response: {\n",
              "      action: 'starting',\n",
              "    }\n",
              "  };\n",
              "\n",
              "  cancel.remove();\n",
              "\n",
              "  // Disable the input element since further picks are not allowed.\n",
              "  inputElement.disabled = true;\n",
              "\n",
              "  if (!files) {\n",
              "    return {\n",
              "      response: {\n",
              "        action: 'complete',\n",
              "      }\n",
              "    };\n",
              "  }\n",
              "\n",
              "  for (const file of files) {\n",
              "    const li = document.createElement('li');\n",
              "    li.append(span(file.name, {fontWeight: 'bold'}));\n",
              "    li.append(span(\n",
              "        `(${file.type || 'n/a'}) - ${file.size} bytes, ` +\n",
              "        `last modified: ${\n",
              "            file.lastModifiedDate ? file.lastModifiedDate.toLocaleDateString() :\n",
              "                                    'n/a'} - `));\n",
              "    const percent = span('0% done');\n",
              "    li.appendChild(percent);\n",
              "\n",
              "    outputElement.appendChild(li);\n",
              "\n",
              "    const fileDataPromise = new Promise((resolve) => {\n",
              "      const reader = new FileReader();\n",
              "      reader.onload = (e) => {\n",
              "        resolve(e.target.result);\n",
              "      };\n",
              "      reader.readAsArrayBuffer(file);\n",
              "    });\n",
              "    // Wait for the data to be ready.\n",
              "    let fileData = yield {\n",
              "      promise: fileDataPromise,\n",
              "      response: {\n",
              "        action: 'continue',\n",
              "      }\n",
              "    };\n",
              "\n",
              "    // Use a chunked sending to avoid message size limits. See b/62115660.\n",
              "    let position = 0;\n",
              "    do {\n",
              "      const length = Math.min(fileData.byteLength - position, MAX_PAYLOAD_SIZE);\n",
              "      const chunk = new Uint8Array(fileData, position, length);\n",
              "      position += length;\n",
              "\n",
              "      const base64 = btoa(String.fromCharCode.apply(null, chunk));\n",
              "      yield {\n",
              "        response: {\n",
              "          action: 'append',\n",
              "          file: file.name,\n",
              "          data: base64,\n",
              "        },\n",
              "      };\n",
              "\n",
              "      let percentDone = fileData.byteLength === 0 ?\n",
              "          100 :\n",
              "          Math.round((position / fileData.byteLength) * 100);\n",
              "      percent.textContent = `${percentDone}% done`;\n",
              "\n",
              "    } while (position < fileData.byteLength);\n",
              "  }\n",
              "\n",
              "  // All done.\n",
              "  yield {\n",
              "    response: {\n",
              "      action: 'complete',\n",
              "    }\n",
              "  };\n",
              "}\n",
              "\n",
              "scope.google = scope.google || {};\n",
              "scope.google.colab = scope.google.colab || {};\n",
              "scope.google.colab._files = {\n",
              "  _uploadFiles,\n",
              "  _uploadFilesContinue,\n",
              "};\n",
              "})(self);\n",
              "</script> "
            ]
          },
          "metadata": {}
        },
        {
          "output_type": "stream",
          "name": "stdout",
          "text": [
            "Saving chicago_eclipse_data_part_1.csv to chicago_eclipse_data_part_1.csv\n",
            "Saving chicago_eclipse_data_part_2.csv to chicago_eclipse_data_part_2.csv\n",
            "Saving chicago_eclipse_data_part_3.csv to chicago_eclipse_data_part_3.csv\n"
          ]
        }
      ]
    },
    {
      "cell_type": "code",
      "execution_count": 3,
      "metadata": {
        "id": "94JFGo8HuaXr"
      },
      "outputs": [],
      "source": [
        "# Import the datascience Table abstraction\n",
        "from datascience import Table"
      ]
    },
    {
      "cell_type": "code",
      "source": [
        "# Get the list of uploaded filenames and sort them (if needed)\n",
        "file_names = sorted(uploaded.keys())\n",
        "print(\"Uploaded files:\", file_names)"
      ],
      "metadata": {
        "colab": {
          "base_uri": "https://localhost:8080/"
        },
        "id": "S2674Hw2uyKo",
        "outputId": "d58e9bfb-a621-4e9b-a5ae-df1f83833999"
      },
      "execution_count": 4,
      "outputs": [
        {
          "output_type": "stream",
          "name": "stdout",
          "text": [
            "Uploaded files: ['chicago_eclipse_data_part_1.csv', 'chicago_eclipse_data_part_2.csv', 'chicago_eclipse_data_part_3.csv']\n"
          ]
        }
      ]
    },
    {
      "cell_type": "code",
      "source": [
        "# Read each CSV file into a Table and collect them in a list\n",
        "tables = []\n",
        "for file in file_names:\n",
        "    try:\n",
        "        t = Table.read_table(file)\n",
        "        tables.append(t)\n",
        "        print(f\"Loaded {file} with {t.num_rows} rows.\")\n",
        "    except Exception as e:\n",
        "        print(f\"Error reading {file}: {e}\")"
      ],
      "metadata": {
        "colab": {
          "base_uri": "https://localhost:8080/"
        },
        "id": "mu1S_7GMuzja",
        "outputId": "72fb2279-0301-4a73-86af-3f07813d544e"
      },
      "execution_count": 16,
      "outputs": [
        {
          "output_type": "stream",
          "name": "stdout",
          "text": [
            "Loaded chicago_eclipse_data_part_1.csv with 129531 rows.\n",
            "Loaded chicago_eclipse_data_part_2.csv with 129531 rows.\n",
            "Loaded chicago_eclipse_data_part_3.csv with 129531 rows.\n"
          ]
        }
      ]
    },
    {
      "cell_type": "code",
      "source": [
        "# Use the first table as the master with the desired column order.\n",
        "master_table = tables[0]\n",
        "common_labels = master_table.labels\n",
        "\n",
        "def align_rows(table, common_labels):\n",
        "    aligned_rows = []\n",
        "    for row in table.rows:\n",
        "        new_row = []\n",
        "        for label in common_labels:\n",
        "            if label in table.labels:\n",
        "                new_row.append(row[table.labels.index(label)])\n",
        "            else:\n",
        "                new_row.append(\"\")\n",
        "        aligned_rows.append(new_row)\n",
        "    return aligned_rows\n",
        "\n",
        "# Convert the master table's rows to a list\n",
        "all_rows = list(master_table.rows)\n",
        "\n",
        "# Loop through each subsequent table, align its rows, and extend all_rows.\n",
        "for t in tables[1:]:\n",
        "    aligned = align_rows(t, common_labels)\n",
        "    all_rows.extend(aligned)\n",
        "\n",
        "# Create a new Table with the common labels and all collected rows.\n",
        "merged_table = Table(common_labels, all_rows)\n",
        "print(\"Merged table has\", merged_table.num_rows, \"rows and\", len(merged_table.labels), \"columns.\")\n"
      ],
      "metadata": {
        "colab": {
          "base_uri": "https://localhost:8080/"
        },
        "id": "Qb7xl8bBu1n_",
        "outputId": "20f513f9-7d14-4afd-abe6-f9a810daf365"
      },
      "execution_count": 20,
      "outputs": [
        {
          "output_type": "stream",
          "name": "stdout",
          "text": [
            "Merged table has 0 rows and 16 columns.\n"
          ]
        }
      ]
    },
    {
      "cell_type": "code",
      "source": [
        "# --- Cleaning Steps ---\n",
        "\n",
        "# 1. Standardize column names: strip whitespace and convert to lowercase\n",
        "clean_labels = [label.strip().lower() for label in merged_table.labels]\n",
        "\n",
        "# Loop through each pair of old and new labels and update the table\n",
        "for old, new in zip(merged_table.labels, clean_labels):\n",
        "    merged_table = merged_table.relabeled(old, new)\n",
        "\n",
        "print(\"Column names standardized.\")"
      ],
      "metadata": {
        "colab": {
          "base_uri": "https://localhost:8080/"
        },
        "id": "HV1XywjXu5gy",
        "outputId": "3baf93c1-3c8e-4c3d-dfea-32dfb4582965"
      },
      "execution_count": 24,
      "outputs": [
        {
          "output_type": "stream",
          "name": "stdout",
          "text": [
            "Column names standardized.\n"
          ]
        }
      ]
    },
    {
      "cell_type": "code",
      "source": [
        "# Remove duplicate rows manually\n",
        "unique_rows = []\n",
        "seen = set()\n",
        "for row in merged_table.rows:\n",
        "    row_tuple = tuple(row)  # Convert row to tuple so it's hashable\n",
        "    if row_tuple not in seen:\n",
        "        seen.add(row_tuple)\n",
        "        unique_rows.append(row)\n",
        "\n",
        "# Create a new Table with only unique rows\n",
        "merged_table = Table(merged_table.labels, unique_rows)\n",
        "print(\"Removed duplicate rows. New row count:\", merged_table.num_rows)\n"
      ],
      "metadata": {
        "colab": {
          "base_uri": "https://localhost:8080/"
        },
        "id": "C9jnOO7Su9_v",
        "outputId": "c040a2d5-68c7-410b-a99d-0e685b955654"
      },
      "execution_count": 26,
      "outputs": [
        {
          "output_type": "stream",
          "name": "stdout",
          "text": [
            "Removed duplicate rows. New row count: 0\n"
          ]
        }
      ]
    },
    {
      "cell_type": "code",
      "source": [
        "# Remove rows where all entries are missing (consider missing as empty strings or None)\n",
        "def row_is_empty(row):\n",
        "    return all(x == '' or x is None for x in row)\n",
        "\n",
        "clean_rows = [row for row in merged_table.rows if not row_is_empty(row)]\n",
        "merged_table = Table(merged_table.labels, clean_rows)\n",
        "print(\"Removed rows with all missing entries. New row count:\", merged_table.num_rows)"
      ],
      "metadata": {
        "colab": {
          "base_uri": "https://localhost:8080/"
        },
        "id": "Lthgor7Ru-RI",
        "outputId": "dd15f761-8c32-49b0-84de-31b89ccdd19b"
      },
      "execution_count": 27,
      "outputs": [
        {
          "output_type": "stream",
          "name": "stdout",
          "text": [
            "Removed rows with all missing entries. New row count: 0\n"
          ]
        }
      ]
    },
    {
      "cell_type": "code",
      "source": [
        "# For each string column, strip leading and trailing whitespace from each cell\n",
        "cleaned_rows = []\n",
        "for row in merged_table.rows:\n",
        "    new_row = [x.strip() if isinstance(x, str) else x for x in row]\n",
        "    cleaned_rows.append(new_row)\n",
        "merged_table = Table(merged_table.labels, cleaned_rows)\n",
        "print(\"Trimmed whitespace from string columns.\")"
      ],
      "metadata": {
        "colab": {
          "base_uri": "https://localhost:8080/"
        },
        "id": "N6EDqe7zu-4e",
        "outputId": "d6b90df9-0320-4305-f667-a91855117363"
      },
      "execution_count": 28,
      "outputs": [
        {
          "output_type": "stream",
          "name": "stdout",
          "text": [
            "Trimmed whitespace from string columns.\n"
          ]
        }
      ]
    },
    {
      "cell_type": "code",
      "source": [
        "# Save the cleaned merged dataset to a CSV file\n",
        "output_file = 'chicago_eclipse_data_cleaned.csv'\n",
        "merged_table.to_csv(output_file)\n",
        "print(f\"Cleaned merged dataset saved as {output_file}\")"
      ],
      "metadata": {
        "colab": {
          "base_uri": "https://localhost:8080/"
        },
        "id": "bQhTrr0_vHB5",
        "outputId": "4b17289a-3252-4295-b0ea-c32a0c76e9d6"
      },
      "execution_count": 30,
      "outputs": [
        {
          "output_type": "stream",
          "name": "stdout",
          "text": [
            "Cleaned merged dataset saved as chicago_eclipse_data_cleaned.csv\n"
          ]
        }
      ]
    }
  ]
}